{
 "cells": [
  {
   "cell_type": "markdown",
   "metadata": {},
   "source": [
    "# Creating Database using SQLite"
   ]
  },
  {
   "cell_type": "code",
   "execution_count": 146,
   "metadata": {},
   "outputs": [],
   "source": [
    "\n",
    "import sqlite3\n",
    "conn = sqlite3.connect('Student_Data.db')\n",
    "c = conn.cursor()"
   ]
  },
  {
   "cell_type": "code",
   "execution_count": 147,
   "metadata": {},
   "outputs": [],
   "source": [
    "from pandas import DataFrame\n",
    "import pandas as pd"
   ]
  },
  {
   "cell_type": "code",
   "execution_count": 149,
   "metadata": {},
   "outputs": [
    {
     "data": {
      "text/plain": [
       "<sqlite3.Cursor at 0x7fe2042ffd50>"
      ]
     },
     "execution_count": 149,
     "metadata": {},
     "output_type": "execute_result"
    }
   ],
   "source": [
    "c.execute(\"\"\" DROP TABLE Student_Info\"\"\")"
   ]
  },
  {
   "cell_type": "code",
   "execution_count": 150,
   "metadata": {},
   "outputs": [
    {
     "data": {
      "text/plain": [
       "<sqlite3.Cursor at 0x7fe2042ffd50>"
      ]
     },
     "execution_count": 150,
     "metadata": {},
     "output_type": "execute_result"
    }
   ],
   "source": [
    "c.execute(\"\"\"CREATE TABLE Student_Info (\n",
    "        id text PRIMARY KEY,\n",
    "        f_name text,\n",
    "        l_name text,\n",
    "        gender text,\n",
    "        race text,\n",
    "        birth_dt numeric,\n",
    "        address text,\n",
    "        email text\n",
    "        )\"\"\")"
   ]
  },
  {
   "cell_type": "code",
   "execution_count": 151,
   "metadata": {},
   "outputs": [],
   "source": [
    "sheet_list = ['SP_2017', 'SP_2018', 'SP_2019', 'SP_2020']\n",
    "for i in sheet_list:\n",
    "    df = pd.read_excel('CS_320.xlsx',sheet_name= i, usecols = \"A:H\")\n",
    "    df.to_sql('Student_Info', conn , if_exists='append', index=False)"
   ]
  },
  {
   "cell_type": "code",
   "execution_count": null,
   "metadata": {},
   "outputs": [],
   "source": [
    "#c.execute(\"\"\" DROP TABLE Assignment\"\"\")"
   ]
  },
  {
   "cell_type": "code",
   "execution_count": 154,
   "metadata": {},
   "outputs": [
    {
     "data": {
      "text/plain": [
       "<sqlite3.Cursor at 0x7fe2042ffd50>"
      ]
     },
     "execution_count": 154,
     "metadata": {},
     "output_type": "execute_result"
    }
   ],
   "source": [
    "c.execute(\"\"\"CREATE TABLE Assignment (\n",
    "        home1 real,\n",
    "        home2 real,\n",
    "        home3 real,\n",
    "        home4 real,\n",
    "        home5 real,\n",
    "        home6 real,\n",
    "        id text FORIEGN KEY\n",
    "        )\"\"\")"
   ]
  },
  {
   "cell_type": "code",
   "execution_count": 155,
   "metadata": {},
   "outputs": [],
   "source": [
    "for i in sheet_list:\n",
    "    if i== 'SP_2018':\n",
    "        df = pd.read_excel('CS_320.xlsx',sheet_name= 'SP_2018', usecols =\"A,I:N\" )\n",
    "        df.to_sql('Assignment', conn , if_exists='append', index=False)\n",
    "    else:\n",
    "        df = pd.read_excel('CS_320.xlsx',sheet_name= i, usecols =\"A,I:M\" )\n",
    "        df.to_sql('Assignment', conn , if_exists='append', index=False)"
   ]
  },
  {
   "cell_type": "code",
   "execution_count": null,
   "metadata": {},
   "outputs": [],
   "source": [
    "#c.execute(\"\"\" DROP TABLE Assessment\"\"\")"
   ]
  },
  {
   "cell_type": "code",
   "execution_count": 157,
   "metadata": {},
   "outputs": [
    {
     "data": {
      "text/plain": [
       "<sqlite3.Cursor at 0x7fe2042ffd50>"
      ]
     },
     "execution_count": 157,
     "metadata": {},
     "output_type": "execute_result"
    }
   ],
   "source": [
    "c.execute(\"\"\"CREATE TABLE Assessment (\n",
    "        quiz1 real,\n",
    "        quiz2 real,\n",
    "        quiz3 real,\n",
    "        quiz4 real,\n",
    "        quiz5 real,\n",
    "        exam1 real,\n",
    "        exam2 real,\n",
    "        id text FORIEGN KEY\n",
    "        id text FORIEGN KEY\n",
    "        )\"\"\")"
   ]
  },
  {
   "cell_type": "code",
   "execution_count": 159,
   "metadata": {},
   "outputs": [],
   "source": [
    "for i in sheet_list:\n",
    "    if i== 'SP_2018':\n",
    "        df = pd.read_excel('CS_320.xlsx',sheet_name= 'SP_2018', usecols =\"A,o:T\" )\n",
    "        df.to_sql('Assessment', conn , if_exists='append', index=False)\n",
    "    elif i == 'SP_2019':\n",
    "        df = pd.read_excel('CS_320.xlsx',sheet_name= 'SP_2019', usecols =\"A,N:S\" )\n",
    "        df.to_sql('Assessment', conn , if_exists='append', index=False)\n",
    "    else:\n",
    "        df = pd.read_excel('CS_320.xlsx',sheet_name= i, usecols =\"A,N:T\" )\n",
    "        df.to_sql('Assessment', conn , if_exists='append', index=False)"
   ]
  },
  {
   "cell_type": "code",
   "execution_count": 162,
   "metadata": {},
   "outputs": [],
   "source": [
    "#c.execute(\"\"\" DROP TABLE Student_track \"\"\")"
   ]
  },
  {
   "cell_type": "code",
   "execution_count": 163,
   "metadata": {},
   "outputs": [
    {
     "data": {
      "text/plain": [
       "<sqlite3.Cursor at 0x7fe2042ffd50>"
      ]
     },
     "execution_count": 163,
     "metadata": {},
     "output_type": "execute_result"
    }
   ],
   "source": [
    "c.execute(\"\"\"CREATE TABLE Student_track (\n",
    "        ontime real,\n",
    "        late real,\n",
    "        missed real,\n",
    "        attendance real,\n",
    "        LMS_accesses real,\n",
    "        LMS_time real,\n",
    "        LMS_mess real,\n",
    "        final_grade,\n",
    "        course_code text,\n",
    "        term_code text,\n",
    "        id text FORIEGN KEY\n",
    "        )\"\"\")"
   ]
  },
  {
   "cell_type": "code",
   "execution_count": 164,
   "metadata": {},
   "outputs": [],
   "source": [
    "for i in sheet_list:\n",
    "    if i== 'SP_2019':\n",
    "        df = pd.read_excel('CS_320.xlsx',sheet_name= 'SP_2019', usecols =\"A,T:AC\" )\n",
    "        df.to_sql('Student_track', conn , if_exists='append', index=False)\n",
    "    else:\n",
    "        df = pd.read_excel('CS_320.xlsx',sheet_name= i, usecols =\"A,U:AD\" )\n",
    "        df.to_sql('Student_track', conn , if_exists='append', index=False)"
   ]
  },
  {
   "cell_type": "code",
   "execution_count": 165,
   "metadata": {},
   "outputs": [],
   "source": [
    "conn.commit()\n",
    "conn.close()"
   ]
  },
  {
   "cell_type": "code",
   "execution_count": null,
   "metadata": {},
   "outputs": [],
   "source": []
  }
 ],
 "metadata": {
  "kernelspec": {
   "display_name": "Python 3",
   "language": "python",
   "name": "python3"
  },
  "language_info": {
   "codemirror_mode": {
    "name": "ipython",
    "version": 3
   },
   "file_extension": ".py",
   "mimetype": "text/x-python",
   "name": "python",
   "nbconvert_exporter": "python",
   "pygments_lexer": "ipython3",
   "version": "3.7.3"
  }
 },
 "nbformat": 4,
 "nbformat_minor": 4
}
