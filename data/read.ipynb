{
 "cells": [
  {
   "cell_type": "code",
   "execution_count": 4,
   "metadata": {},
   "outputs": [],
   "source": [
    "import numpy as np \n",
    "import pandas as pd\n",
    "import xlrd"
   ]
  },
  {
   "cell_type": "code",
   "execution_count": 5,
   "metadata": {},
   "outputs": [],
   "source": [
    "def read_course(course_code, term_code): # return a df\n",
    "    # If we change the database structure, just need to modify this \n",
    "    try:\n",
    "        course_file_name = './data/{}.xlsx'.format(course_code)\n",
    "        return pd.read_excel(course_file_name, sheet_name = term_code)\n",
    "\n",
    "    except (FileNotFoundError, xlrd.biffh.XLRDError): # file or sheet (term) not found\n",
    "        return pd.DataFrame() # return empty df\n",
    "\n",
    "#####\n",
    "\n",
    "def subtract_term(current, n_term):\n",
    "    cur_sem, cur_yea = tuple(current.split('_')) # ex: FA_2019\n",
    "    cur_yea = int(cur_yea)\n",
    "    past_y = cur_yea - (n_term//2)\n",
    "\n",
    "    # assume that each year only has 2 semesters: Spring (SP) & Fall (FA):\n",
    "    if n_term%2 == 0:\n",
    "        return '{}_{}'.format(cur_sem, past_y)      \n",
    "    elif n_term%2 == 1:\n",
    "        if cur_sem=='FA':\n",
    "            return 'SP_{}'.format(past_y)            \n",
    "        elif cur_sem == 'SP':\n",
    "            return 'FA_{}'.format(past_y-1)\n",
    "\n",
    "def term_range(current, n_term): # return a list of the past n_term starting at current (inclusive)\n",
    "    terms_passed = 0\n",
    "    term_list = []\n",
    "\n",
    "    while terms_passed < n_term:\n",
    "        temp_term = subtract_term(current, terms_passed)\n",
    "        term_list.append(temp_term)\n",
    "\n",
    "        terms_passed += 1\n",
    "    \n",
    "    return term_list \n",
    "\n",
    "def read_last_time(course_code, current, cutoff=10): # read the last time this course is offered\n",
    "    last_term = subtract_term(current, 1)\n",
    "    terms_passed = 0\n",
    "\n",
    "    while terms_passed <= cutoff:\n",
    "        last_time_df = read_course(course_code, last_term)\n",
    "        if not last_time_df.empty:\n",
    "            break\n",
    "        \n",
    "        terms_passed += 1\n",
    "        last_term = subtract_term(last_term, 1)\n",
    "\n",
    "    return last_time_df\n",
    "\n",
    "def read_n_recent(course_code, current_term, n_term=1):\n",
    "    all_term_df = pd.DataFrame()\n",
    "    for t in term_range(current_term, n_term):\n",
    "        temp_df = read_course(course_code, t)\n",
    "        all_term_df = pd.concat([all_term_df, temp_df])\n",
    "    return all_term_df"
   ]
  },
  {
   "cell_type": "code",
   "execution_count": null,
   "metadata": {},
   "outputs": [],
   "source": []
  }
 ],
 "metadata": {
  "kernelspec": {
   "display_name": "Python 3",
   "language": "python",
   "name": "python3"
  },
  "language_info": {
   "codemirror_mode": {
    "name": "ipython",
    "version": 3
   },
   "file_extension": ".py",
   "mimetype": "text/x-python",
   "name": "python",
   "nbconvert_exporter": "python",
   "pygments_lexer": "ipython3",
   "version": "3.7.3"
  }
 },
 "nbformat": 4,
 "nbformat_minor": 4
}
