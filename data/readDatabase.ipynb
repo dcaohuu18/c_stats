{
 "cells": [
  {
   "cell_type": "code",
   "execution_count": 1,
   "metadata": {},
   "outputs": [],
   "source": [
    "import sqlite3\n",
    "conn = sqlite3.connect('Student_Data.db')\n",
    "c = conn.cursor()"
   ]
  },
  {
   "cell_type": "code",
   "execution_count": 2,
   "metadata": {},
   "outputs": [],
   "source": [
    "def create_connection(db):\n",
    "    conn = None\n",
    "    try:\n",
    "        conn = sqlite3.connect(db)\n",
    "    except Error as e:\n",
    "        print(e)\n",
    "\n",
    "    return conn"
   ]
  },
  {
   "cell_type": "code",
   "execution_count": 20,
   "metadata": {},
   "outputs": [],
   "source": [
    "def read_course(conn,course_code,term_code):\n",
    "    cur = conn.cursor()\n",
    "    cur.execute(\"\"\"SELECT *\n",
    "                   FROM Student_info\n",
    "                   LEFT OUTER JOIN  StudentProfile p using (id)\n",
    "                   LEFT OUTER JOIN  Assignment a using (id, course_code)\n",
    "                   LEFT OUTER JOIN  Assessment q using (id, course_code)\n",
    "                   LEFT OUTER JOIN  Student_track t using (id, course_code)\n",
    "                   WHERE p.course_code = '\"\"\"+course_code+\"\"\"' and p.term_code = '\"\"\"+term_code+\"\"\"';\"\"\")\n",
    "\n",
    "    rows = cur.fetchall()\n",
    "\n",
    "    for row in rows:\n",
    "        print(row)"
   ]
  },
  {
   "cell_type": "code",
   "execution_count": 21,
   "metadata": {},
   "outputs": [],
   "source": [
    "###testing\n",
    "conn = create_connection('Student_Data.db')"
   ]
  },
  {
   "cell_type": "code",
   "execution_count": 22,
   "metadata": {},
   "outputs": [
    {
     "name": "stdout",
     "output_type": "stream",
     "text": [
      "('276-03-1718', 'Matthew', 'Brennan', 'M', 'Black', '1995-01-17', '68609 Black Lock\\nLake Gabriela, FL 54374', 'wcisneros@yahoo.com', 'CS_320', 'SP_2017', 87.0, 85.0, 83.0, 89.0, 91.0, 85.0, 82.0, 86.0, 88.0, 89.0, 82.0, 91.0, 87.03, 87.08, 12.92, 0.0, 93.47, 6.9, 3.8, 4.0)\n",
      "('836-91-2671', 'Kim', 'Beck', 'F', 'White', '1998-04-05', '4087 Williams Plaza Suite 510\\nNew Aprilton, WY 13032', 'rcole@gmail.com', 'CS_320', 'SP_2017', 85.0, 93.0, 97.0, 96.0, 95.0, 88.0, 97.0, 97.0, 98.0, 95.0, 93.0, 96.0, 94.96, 100.0, 0.0, 0.0, 98.93, 6.96, 11.77, 3.0)\n",
      "('490-69-4479', 'Bonnie', 'Weaver', 'F', 'White', '1994-06-20', '425 Simmons Lodge\\nEast Christopherport, LA 41013', 'enunez@hotmail.com', 'CS_320', 'SP_2017', 84.0, 77.0, 80.0, 83.0, 88.0, 81.0, 78.0, 80.0, 81.0, 86.0, 75.0, 85.0, 80.69, 100.0, 0.0, 0.0, 77.72, 5.66, 6.49, 1.0)\n",
      "('020-82-1466', 'Kimberly', 'Garcia', 'F', 'Pacific Islander', '1996-12-15', '864 Jacqueline Spurs\\nNorth Jeremy, AZ 67834', 'ghall@hotmail.com', 'CS_320', 'SP_2017', 84.0, 72.0, 59.0, 67.0, 70.0, 80.0, 63.0, 64.0, 67.0, 66.0, 66.0, 72.0, 67.83, 76.85, 23.15, 0.0, 59.37, 4.86, 3.86, 1.0)\n",
      "('036-39-3002', 'Rodney', 'Gonzales', 'M', 'Black', '1997-02-01', '06623 Leslie Lodge Apt. 045\\nWest Nicholasmouth, IN 59432', 'sylvia61@hotmail.com', 'CS_320', 'SP_2017', 95.0, 91.0, 95.0, 96.0, 99.0, 92.0, 92.0, 94.0, 95.0, 98.0, 90.0, 96.0, 94.45, 95.14, 4.86, 0.0, 100.0, 6.03, 7.08, 1.0)\n",
      "('265-08-2223', 'David', 'Jones', 'M', 'White', '1997-02-10', '16350 Elizabeth Underpass Suite 044\\nLivingstonstad, ID 29657', 'mariawilliams@hotmail.com', 'CS_320', 'SP_2017', 91.0, 90.0, 89.0, 92.0, 93.0, 91.0, 88.0, 89.0, 90.0, 90.0, 87.0, 92.0, 90.63, 73.36, 26.64, 0.0, 100.0, 6.01, 6.23, 4.0)\n",
      "('654-97-6286', 'Kayla', 'Gomez', 'F', 'White', '1997-01-07', '357 Zimmerman Stravenue\\nSmithfort, MI 99245', 'froach@yahoo.com', 'CS_320', 'SP_2017', 77.0, 83.0, 84.0, 93.0, 94.0, 80.0, 88.0, 87.0, 91.0, 94.0, 83.0, 90.0, 88.24, 100.0, 0.0, 0.0, 100.0, 4.49, 6.05, 4.0)\n",
      "('262-89-1495', 'Katherine', 'Stevenson', 'F', 'White', '1997-05-05', '05714 Raymond Loaf Apt. 108\\nHenryport, ME 58259', 'ppowell@gmail.com', 'CS_320', 'SP_2017', 89.0, 81.0, 75.0, 74.0, 74.0, 83.0, 78.0, 69.0, 71.0, 76.0, 81.0, 74.0, 78.62, 100.0, 0.0, 0.0, 100.0, 3.8, 7.24, 1.0)\n",
      "('694-30-4860', 'Lynn', 'Robinson', 'F', 'White', '1994-08-03', '590 Julie Wells\\nVincentview, AK 09966', 'alexanderharris@hotmail.com', 'CS_320', 'SP_2017', 82.0, 81.0, 84.0, 85.0, 90.0, 81.0, 85.0, 84.0, 83.0, 87.0, 81.0, 87.0, 85.45, 100.0, 0.0, 0.0, 100.0, 5.34, 5.06, 10.0)\n",
      "('055-02-3228', 'Jesse', 'Hensley', 'M', 'White', '1997-01-13', '193 Julie Ferry Suite 722\\nBarryton, IN 02036', 'etaylor@hotmail.com', 'CS_320', 'SP_2017', 86.0, 84.0, 83.0, 85.0, 88.0, 84.0, 83.0, 83.0, 84.0, 85.0, 81.0, 86.0, 84.78, 100.0, 0.0, 0.0, 94.14, 5.04, 5.73, 4.0)\n",
      "('314-84-9048', 'Paige', 'Mcgee', 'F', 'Black', '1997-12-08', '01986 Steven Terrace Apt. 163\\nSouth Christine, SC 57365', 'maddenalex@hotmail.com', 'CS_320', 'SP_2017', 84.0, 85.0, 82.0, 83.0, 85.0, 84.0, 82.0, 83.0, 82.0, 84.0, 84.0, 81.0, 84.29, 91.21, 8.79, 0.0, 100.0, 4.55, 7.61, 3.0)\n",
      "('337-02-8642', 'Wendy', 'Baldwin', 'F', 'White', '1996-08-17', 'Unit 5348 Box 2490\\nDPO AP 76852', 'brooksdustin@yahoo.com', 'CS_320', 'SP_2017', 88.0, 85.0, 82.0, 87.0, 84.0, 84.0, 83.0, 81.0, 85.0, 84.0, 84.0, 83.0, 85.11, 100.0, 0.0, 0.0, 100.0, 4.74, 5.52, 3.0)\n",
      "('700-67-5714', 'Melanie', 'Williams', 'F', 'White', '1998-12-13', '5731 Gene Centers\\nLake Heather, DE 89158', 'robertanderson@gmail.com', 'CS_320', 'SP_2017', 78.0, 81.0, 84.0, 87.0, 85.0, 79.0, 82.0, 85.0, 83.0, 85.0, 82.0, 82.0, 84.01, 85.21, 14.79, 0.0, 100.0, 6.33, 7.0, 3.0)\n",
      "('876-21-1419', 'Megan', 'Kelly', 'F', 'Native', '1998-07-08', '8441 Tony Curve\\nLisatown, GA 18384', 'elliottsheryl@gmail.com', 'CS_320', 'SP_2017', 84.0, 91.0, 94.0, 92.0, 96.0, 84.0, 96.0, 94.0, 90.0, 89.0, 93.0, 88.0, 91.46, 98.3, 1.7, 0.0, 97.36, 5.06, 9.97, 0.0)\n",
      "('676-97-3089', 'Andrew', 'Robinson', 'M', 'White', '1995-03-20', '738 Jennifer Inlet\\nNorth Tamara, ME 96508', 'kevinramos@gmail.com', 'CS_320', 'SP_2017', 79.0, 79.0, 80.0, 76.0, 76.0, 77.0, 78.0, 78.0, 76.0, 76.0, 77.0, 74.0, 77.41, 100.0, 0.0, 0.0, 87.18, 4.39, 5.93, 2.0)\n",
      "('630-57-9425', 'Andrea', 'Morales', 'F', 'White', '1997-11-14', '298 Amy Streets\\nWatkinsfurt, OK 47627', 'parkerdennis@gmail.com', 'CS_320', 'SP_2017', 80.0, 90.0, 90.0, 82.0, 80.0, 85.0, 92.0, 87.0, 85.0, 77.0, 90.0, 77.0, 85.55, 92.33, 7.67, 0.0, 100.0, 6.77, 6.84, 2.0)\n",
      "('667-18-4719', 'Lisa', 'Sellers', 'F', 'White', '1998-08-12', '2431 Johnson Harbor Suite 554\\nNew Curtiston, SD 18523', 'rebecca83@gmail.com', 'CS_320', 'SP_2017', 87.0, 83.0, 84.0, 86.0, 87.0, 86.0, 82.0, 83.0, 84.0, 86.0, 81.0, 83.0, 84.77, 95.86, 4.14, 0.0, 100.0, 5.57, 4.71, 2.0)\n",
      "('651-93-9515', 'Mitchell', 'James', 'M', 'White', '1997-07-10', '6726 Fitzgerald Track Suite 716\\nPort Edwardville, WA 43777', 'mcdonalddouglas@hotmail.com', 'CS_320', 'SP_2017', 93.0, 91.0, 89.0, 90.0, 90.0, 90.0, 88.0, 91.0, 92.0, 89.0, 89.0, 88.0, 89.01, 95.25, 4.75, 0.0, 83.65, 8.09, 4.85, 1.0)\n",
      "('839-58-4508', 'Steven', 'Allen', 'M', 'Black', '1994-05-26', '9212 Cruz Ford Apt. 808\\nHurstview, NJ 86991', 'butlerkayla@gmail.com', 'CS_320', 'SP_2017', 84.0, 81.0, 75.0, 79.0, 87.0, 82.0, 76.0, 76.0, 75.0, 83.0, 78.0, 85.0, 81.82, 97.99, 2.01, 0.0, 100.0, 4.36, 5.78, 2.0)\n",
      "('005-86-6369', 'James', 'Cox', 'M', 'White', '1996-10-10', 'USNV Rubio\\nFPO AP 50636', 'calderonsara@gmail.com', 'CS_320', 'SP_2017', 82.0, 74.0, 79.0, 83.0, 86.0, 78.0, 75.0, 84.0, 82.0, 84.0, 72.0, 85.0, 81.43, 94.55, 5.45, 0.0, 100.0, 4.38, 7.13, 3.0)\n",
      "('208-32-3561', 'Sarah', 'Chase', 'F', 'White', '1996-08-27', '03065 Drake Lock\\nEast Sharonville, KS 78036', 'pgarrison@hotmail.com', 'CS_320', 'SP_2017', 88.0, 87.0, 90.0, 87.0, 88.0, 85.0, 86.0, 85.0, 83.0, 87.0, 85.0, 88.0, 87.47, 100.0, 0.0, 0.0, 100.0, 5.46, 7.2, 5.0)\n",
      "('310-24-3375', 'Scott', 'Graves', 'M', 'White', '1997-04-06', '6069 Jenna Mountains\\nNorth Kenneth, IL 56558', 'hooverjennifer@gmail.com', 'CS_320', 'SP_2017', 99.0, 99.0, 100.0, 99.0, 100.0, 99.0, 100.0, 100.0, 98.0, 99.0, 99.0, 100.0, 99.06, 98.4, 1.6, 0.0, 95.35, 6.09, 7.88, 3.0)\n",
      "('723-38-1437', 'Tiffany', 'Gomez', 'F', 'White', '1997-08-22', '3982 Jessica Valleys Apt. 970\\nPort Loriland, MS 80124', 'brandonjames@hotmail.com', 'CS_320', 'SP_2017', 90.0, 96.0, 99.0, 96.0, 99.0, 92.0, 97.0, 98.0, 97.0, 97.0, 95.0, 99.0, 96.91, 100.0, 0.0, 0.0, 100.0, 7.08, 6.98, 5.0)\n",
      "('761-08-4735', 'Jessica', 'Fletcher', 'F', 'Black', '1995-07-13', '8959 Ritter Rue Apt. 748\\nKimberlychester, SC 74010', 'jamesellison@hotmail.com', 'CS_320', 'SP_2017', 83.0, 80.0, 80.0, 82.0, 85.0, 80.0, 78.0, 78.0, 80.0, 83.0, 78.0, 81.0, 81.7, 100.0, 0.0, 0.0, 99.6, 6.08, 5.1, 1.0)\n",
      "('186-16-4425', 'Caroline', 'Allen', 'F', 'White', '1998-10-25', '440 Tucker Branch Apt. 798\\nNew Ashleeville, MS 89412', 'jessicarussell@gmail.com', 'CS_320', 'SP_2017', 77.0, 76.0, 75.0, 74.0, 74.0, 77.0, 73.0, 72.0, 74.0, 73.0, 74.0, 74.0, 76.16, 95.81, 4.19, 0.0, 100.0, 3.71, 6.11, 3.0)\n"
     ]
    }
   ],
   "source": [
    "read_course(conn,'CS_320','SP_2017')"
   ]
  },
  {
   "cell_type": "code",
   "execution_count": 23,
   "metadata": {},
   "outputs": [
    {
     "name": "stdout",
     "output_type": "stream",
     "text": [
      "('655-59-4946', 'Anita', 'Jones', 'F', 'White', '1997-05-03', '6004 Davis Gateway\\nEast Jenniferborough, NH 43447', 'robertsilva@gmail.com', 'CS_320', 'SP_2018', 88.0, 86.0, 87.0, 84.0, 85.0, 86.0, 85.0, 83.0, 85.0, None, 84.0, 86.0, 85.79, 100.0, 0.0, 0.0, 91.73, 6.81, 3.91, 1.0)\n",
      "('343-10-8632', 'Kelly', 'Larsen', 'F', 'White', '1995-02-11', '20332 Amanda Knolls Apt. 279\\nNorth Robynchester, IA 13179', 'kristihernandez@gmail.com', 'CS_320', 'SP_2018', 84.0, 89.0, 97.0, 95.0, 99.0, 87.0, 96.0, 93.0, 100.0, None, 94.0, 98.0, 94.38, 100.0, 0.0, 0.0, 88.73, 6.48, 8.65, 10.0)\n",
      "('473-22-5753', 'Deanna', 'Orr', 'F', 'Asian', '1995-10-26', '09436 Barrett Roads\\nJessicafurt, AK 16648', 'jcook@gmail.com', 'CS_320', 'SP_2018', 85.0, 88.0, 93.0, 93.0, 91.0, 86.0, 92.0, 90.0, 92.0, None, 92.0, 90.0, 90.04, 78.28, 21.72, 0.0, 85.01, 7.59, 8.48, 1.0)\n",
      "('811-73-9500', 'Carla', 'Mullins', 'F', 'White', '1996-01-12', '78266 Martha Forge\\nSouth William, TX 12097', 'marshjessica@gmail.com', 'CS_320', 'SP_2018', 92.0, 92.0, 90.0, 88.0, 87.0, 91.0, 90.0, 88.0, 87.0, None, 89.0, 87.0, 89.56, 81.65, 18.35, 0.0, 100.0, 6.87, 5.15, 1.0)\n",
      "('282-37-6992', 'Melissa', 'Flores', 'F', 'White', '1997-11-12', '5213 Lopez Fords\\nSouth Gina, SC 52104', 'owensstephanie@hotmail.com', 'CS_320', 'SP_2018', 80.0, 78.0, 83.0, 78.0, 81.0, 78.0, 81.0, 79.0, 81.0, None, 78.0, 77.0, 79.66, 100.0, 0.0, 0.0, 88.66, 5.58, 5.51, 1.0)\n",
      "('531-26-9928', 'Gabriel', 'White', 'M', 'White', '1995-10-27', '48964 Baker Row Apt. 045\\nJanetstad, AR 17947', 'jonsmith@yahoo.com', 'CS_320', 'SP_2018', 77.0, 77.0, 77.0, 81.0, 87.0, 77.0, 76.0, 83.0, 91.0, None, 77.0, 87.0, 82.99, 100.0, 0.0, 0.0, 95.8, 4.93, 5.93, 0.0)\n",
      "('737-96-4111', 'Richard', 'Nelson', 'M', 'Asian', '1999-07-01', '042 Rios Lane Apt. 991\\nAdambury, MI 90008', 'ronaldowens@yahoo.com', 'CS_320', 'SP_2018', 90.0, 89.0, 92.0, 90.0, 88.0, 89.0, 91.0, 89.0, 88.0, None, 91.0, 86.0, 87.97, 100.0, 0.0, 0.0, 75.73, 7.09, 5.56, 1.0)\n",
      "('279-54-3785', 'Erin', 'Collins', 'F', 'White', '1995-09-16', '42587 Jenna Loop\\nCastroberg, DC 72273', 'ocruz@gmail.com', 'CS_320', 'SP_2018', 87.0, 86.0, 86.0, 84.0, 85.0, 86.0, 86.0, 84.0, 85.0, None, 84.0, 84.0, 85.36, 100.0, 0.0, 0.0, 92.18, 6.8, 4.3, 1.0)\n",
      "('629-75-7511', 'David', 'Jones', 'M', 'White', '1996-10-30', '892 Joshua Prairie Suite 627\\nSouth Austinmouth, NH 27373', 'ricardodavis@hotmail.com', 'CS_320', 'SP_2018', 85.0, 84.0, 84.0, 81.0, 82.0, 85.0, 84.0, 80.0, 82.0, None, 82.0, 83.0, 83.77, 92.88, 7.12, 0.0, 95.45, 6.37, 5.85, 4.0)\n",
      "('757-23-5871', 'Laura', 'Marshall', 'F', 'White', '1998-01-12', '274 Soto Pines\\nBranchtown, AR 68774', 'gmarshall@hotmail.com', 'CS_320', 'SP_2018', 85.0, 79.0, 78.0, 75.0, 79.0, 82.0, 77.0, 77.0, 79.0, None, 75.0, 81.0, 79.98, 95.17, 4.83, 0.0, 96.58, 6.05, 4.67, 0.0)\n",
      "('577-13-6097', 'Veronica', 'Rodriguez', 'F', 'White', '1996-03-20', '38760 Christine Club\\nNew Michelleview, SD 56295', 'alejandro83@hotmail.com', 'CS_320', 'SP_2018', 85.0, 85.0, 81.0, 86.0, 88.0, 85.0, 84.0, 85.0, 88.0, None, 84.0, 91.0, 87.28, 97.17, 2.83, 0.0, 96.29, 6.46, 4.11, 2.0)\n",
      "('603-41-1351', 'John', 'Ross', 'M', 'White', '1995-10-12', '5998 Jeffrey Greens Apt. 003\\nWest Justin, WI 02326', 'khess@gmail.com', 'CS_320', 'SP_2018', 83.0, 90.0, 88.0, 98.0, 100.0, 85.0, 89.0, 100.0, 98.0, None, 92.0, 100.0, 94.8, 91.45, 8.55, 0.0, 100.0, 7.67, 5.7, 7.0)\n",
      "('828-47-7013', 'Eugene', 'Nunez', 'M', 'White', '1996-12-02', '42240 Mcpherson Wall\\nNorth Josephchester, MO 10181', 'wwheeler@yahoo.com', 'CS_320', 'SP_2018', 86.0, 81.0, 82.0, 78.0, 79.0, 83.0, 80.0, 78.0, 78.0, None, 79.0, 80.0, 81.53, 97.28, 2.72, 0.0, 100.0, 5.45, 3.84, 1.0)\n",
      "('722-35-1265', 'Frank', 'Snow', 'M', 'White', '1999-06-07', 'PSC 1876, Box 5145\\nAPO AP 69697', 'nsimpson@gmail.com', 'CS_320', 'SP_2018', 85.0, 82.0, 81.0, 81.0, 85.0, 83.0, 81.0, 83.0, 85.0, None, 80.0, 85.0, 84.28, 100.0, 0.0, 0.0, 100.0, 6.53, 4.71, 2.0)\n",
      "('168-57-8537', 'Matthew', 'Davis', 'M', 'White', '1998-09-10', '80122 Jaclyn Glen Suite 634\\nLake Austinport, SC 63952', 'evansjeffrey@hotmail.com', 'CS_320', 'SP_2018', 95.0, 93.0, 95.0, 94.0, 96.0, 94.0, 94.0, 93.0, 94.0, None, 94.0, 95.0, 93.67, 95.64, 4.36, 0.0, 84.28, 6.73, 4.27, 2.0)\n",
      "('821-96-7514', 'Timothy', 'Martin', 'M', 'White', '1996-02-10', '86512 Samuel Ville\\nElizabethfurt, ND 86354', 'vbell@gmail.com', 'CS_320', 'SP_2018', 84.0, 82.0, 79.0, 78.0, 81.0, 82.0, 78.0, 80.0, 85.0, None, 76.0, 86.0, 82.87, 100.0, 0.0, 0.0, 100.0, 5.65, 6.37, 1.0)\n",
      "('316-18-4572', 'Angela', 'Bailey', 'F', 'White', '1997-11-17', '416 William Lock Suite 154\\nHarryland, ID 46038', 'johncook@yahoo.com', 'CS_320', 'SP_2018', 84.0, 83.0, 86.0, 84.0, 89.0, 84.0, 84.0, 84.0, 93.0, None, 84.0, 90.0, 86.95, 100.0, 0.0, 0.0, 90.02, 5.5, 4.73, 4.0)\n",
      "('634-44-7227', 'Erin', 'Hebert', 'F', 'White', '1995-11-28', '464 Richmond Spur\\nEast Candaceland, KS 88505', 'jessica74@hotmail.com', 'CS_320', 'SP_2018', 87.0, 87.0, 89.0, 92.0, 88.0, 85.0, 90.0, 89.0, 90.0, None, 92.0, 90.0, 89.04, 92.29, 7.71, 0.0, 79.7, 6.36, 5.67, 1.0)\n",
      "('555-21-6078', 'George', 'Johnson', 'M', 'White', '1995-08-29', '8292 Garcia Radial Suite 721\\nBrooksside, MI 63215', 'vickie31@yahoo.com', 'CS_320', 'SP_2018', 88.0, 88.0, 91.0, 90.0, 91.0, 87.0, 89.0, 89.0, 91.0, None, 90.0, 93.0, 91.2, 89.03, 10.97, 0.0, 100.0, 6.27, 6.36, 1.0)\n",
      "('455-54-4528', 'Joshua', 'Cooper', 'M', 'White', '1999-01-18', '836 Smith Islands Suite 019\\nGriffinfurt, VT 49502', 'paula63@gmail.com', 'CS_320', 'SP_2018', 84.0, 81.0, 77.0, 73.0, 70.0, 82.0, 79.0, 70.0, 71.0, None, 75.0, 74.0, 76.65, 100.0, 0.0, 0.0, 92.36, 5.14, 5.09, 1.0)\n",
      "('135-30-1953', 'Charles', 'Adkins', 'M', 'White', '1995-07-17', '8590 Becky Roads Suite 733\\nColechester, WV 83756', 'brandibradley@yahoo.com', 'CS_320', 'SP_2018', 90.0, 90.0, 95.0, 87.0, 87.0, 91.0, 92.0, 85.0, 85.0, None, 89.0, 83.0, 88.43, 98.31, 1.69, 0.0, 100.0, 5.81, 8.11, 2.0)\n",
      "('663-47-0672', 'Brittany', 'Johnson', 'F', 'White', '1996-11-24', '6028 Brittany Extensions\\nSouth Lisachester, IL 68478', 'nsmith@yahoo.com', 'CS_320', 'SP_2018', 92.0, 92.0, 92.0, 96.0, 99.0, 90.0, 90.0, 98.0, 97.0, None, 93.0, 98.0, 95.29, 94.56, 5.44, 0.0, 100.0, 8.09, 8.3, 5.0)\n",
      "('503-63-3186', 'Erin', 'Wilson', 'F', 'White', '1998-01-12', '57549 Preston Estates\\nNorth Danielhaven, WY 98419', 'hensonchristine@gmail.com', 'CS_320', 'SP_2018', 84.0, 80.0, 74.0, 73.0, 83.0, 80.0, 77.0, 77.0, 84.0, None, 73.0, 83.0, 79.79, 85.38, 14.62, 0.0, 90.15, 4.3, 6.8, 0.0)\n",
      "('521-73-9096', 'Pamela', 'Dunn', 'F', 'Mixed', '1996-06-21', '35992 Melvin Stream\\nWest David, CA 85773', 'fvaughn@gmail.com', 'CS_320', 'SP_2018', 85.0, 79.0, 68.0, 67.0, 70.0, 83.0, 73.0, 66.0, 71.0, None, 68.0, 75.0, 74.24, 99.76, 0.24, 0.0, 91.63, 5.02, 2.74, 1.0)\n",
      "('250-95-6313', 'Alice', 'Frost', 'F', 'White', '1996-09-29', '475 Shari Light Suite 144\\nSouth Thomashaven, NJ 15337', 'tbarton@gmail.com', 'CS_320', 'SP_2018', 81.0, 81.0, 81.0, 77.0, 75.0, 82.0, 81.0, 75.0, 75.0, None, 79.0, 74.0, 78.82, 100.0, 0.0, 0.0, 94.86, 4.57, 5.07, 9.0)\n",
      "('107-95-9847', 'Rachel', 'Romero', 'F', 'White', '1998-06-22', '0099 Sean Skyway\\nNorth Clairestad, IA 31682', 'melissa42@hotmail.com', 'CS_320', 'SP_2018', 87.0, 87.0, 90.0, 89.0, 90.0, 86.0, 89.0, 88.0, 93.0, None, 89.0, 90.0, 90.12, 89.07, 10.93, 0.0, 100.0, 6.37, 7.8, 4.0)\n",
      "('513-57-7277', 'Charles', 'Hart', 'M', 'White', '1998-05-03', '8105 Allison Green Suite 723\\nDerekborough, AK 42541', 'wyattbarrett@yahoo.com', 'CS_320', 'SP_2018', 93.0, 100.0, 100.0, 100.0, 100.0, 95.0, 100.0, 100.0, 100.0, None, 99.0, 97.0, 98.03, 95.59, 4.41, 0.0, 93.31, 7.07, 6.8, 2.0)\n",
      "('693-63-0240', 'Jamie', 'Costa', 'F', 'White', '1999-06-26', '282 Walker Mountain\\nJoannafurt, WY 74266', 'parkpaul@gmail.com', 'CS_320', 'SP_2018', 84.0, 76.0, 77.0, 80.0, 80.0, 80.0, 73.0, 79.0, 82.0, None, 79.0, 81.0, 81.3, 90.25, 9.75, 0.0, 100.0, 5.44, 4.26, 3.0)\n",
      "('140-93-4981', 'Joan', 'Williams', 'F', 'Asian', '1997-02-04', '304 Tina Camp Suite 055\\nMonicaside, DE 96137', 'nshaffer@gmail.com', 'CS_320', 'SP_2018', 88.0, 92.0, 94.0, 95.0, 99.0, 88.0, 93.0, 97.0, 98.0, None, 94.0, 95.0, 94.8, 98.11, 1.89, 0.0, 100.0, 5.72, 4.4, 1.0)\n",
      "('536-05-6168', 'Hannah', 'Rios', 'F', 'White', '1995-08-01', '771 Michael Square\\nWardburgh, ME 72850', 'tammy05@hotmail.com', 'CS_320', 'SP_2018', 84.0, 77.0, 70.0, 72.0, 75.0, 79.0, 69.0, 74.0, 76.0, None, 68.0, 77.0, 76.14, 94.67, 5.33, 0.0, 100.0, 5.83, 4.05, 5.0)\n",
      "('395-99-2008', 'Jacqueline', 'Brown', 'F', 'White', '1999-01-02', '505 John Fork Suite 514\\nEast Brian, MI 34892', 'andreaperry@gmail.com', 'CS_320', 'SP_2018', 80.0, 75.0, 74.0, 74.0, 73.0, 77.0, 75.0, 73.0, 74.0, None, 72.0, 72.0, 75.57, 99.93, 0.07, 0.0, 97.94, 5.78, 5.27, 1.0)\n"
     ]
    }
   ],
   "source": [
    "read_course(conn,'CS_320','SP_2018')"
   ]
  },
  {
   "cell_type": "code",
   "execution_count": 24,
   "metadata": {},
   "outputs": [
    {
     "name": "stdout",
     "output_type": "stream",
     "text": [
      "('138-05-9937', 'Michele', 'Lee', 'F', 'White', '1998-11-20', '26835 Gordon Ridges\\nNew Brandon, MI 51894', 'wilkersonjulie@gmail.com', 'CS_320', 'SP_2019', 84.0, 95.0, 96.0, 97.0, 96.0, 89.0, 96.0, 96.0, 96.0, None, 95.0, 98.0, 94.98, 100.0, 0.0, 0.0, 94.21, 3.95, 6.64, 1.0)\n",
      "('040-27-1511', 'Wesley', 'Burgess', 'M', 'Black', '1997-06-22', '795 Marissa Landing\\nLake Lauriestad, KY 74061', 'jennifercallahan@gmail.com', 'CS_320', 'SP_2019', 86.0, 88.0, 89.0, 92.0, 93.0, 85.0, 90.0, 91.0, 92.0, None, 86.0, 92.0, 90.06, 77.29, 22.71, 0.0, 100.0, 5.04, 5.81, 4.0)\n",
      "('645-32-0454', 'Becky', 'Russell', 'F', 'White', '1998-09-27', '889 Davis Garden Suite 058\\nPort Matthew, OK 57755', 'jamie17@hotmail.com', 'CS_320', 'SP_2019', 86.0, 80.0, 70.0, 69.0, 74.0, 82.0, 71.0, 69.0, 69.0, None, 74.0, 72.0, 74.82, 81.42, 18.58, 0.0, 89.93, 6.42, 4.48, 1.0)\n",
      "('514-14-0813', 'Wendy', 'Perry', 'F', 'White', '1996-02-29', '903 Daniel Turnpike\\nNew Austin, CO 42199', 'hunterlawrence@gmail.com', 'CS_320', 'SP_2019', 80.0, 79.0, 78.0, 75.0, 75.0, 79.0, 78.0, 76.0, 75.0, None, 76.0, 73.0, 77.71, 93.76, 6.24, 0.0, 100.0, 5.86, 4.64, 3.0)\n",
      "('801-23-7516', 'Jason', 'Hopkins', 'M', 'White', '1998-01-07', '78539 Cassandra Passage Apt. 964\\nPort Elizabeth, IA 32234', 'johnsonbrian@yahoo.com', 'CS_320', 'SP_2019', 78.0, 68.0, 66.0, 64.0, 65.0, 74.0, 66.0, 68.0, 66.0, None, 64.0, 61.0, 66.58, 75.41, 24.59, 0.0, 76.4, 4.02, 3.26, 0.0)\n",
      "('436-59-6441', 'Christian', 'Bailey', 'M', 'Asian', '2000-04-23', '098 House Road\\nJohnbury, OH 37920', 'sabrina15@hotmail.com', 'CS_320', 'SP_2019', 85.0, 85.0, 88.0, 87.0, 85.0, 84.0, 88.0, 89.0, 87.0, None, 87.0, 87.0, 87.66, 94.72, 5.28, 0.0, 100.0, 5.08, 7.7, 0.0)\n",
      "('824-08-8088', 'Thomas', 'Cooper', 'M', 'White', '1999-09-17', '634 Thompson Meadow\\nLake Laurenland, NV 86354', 'blakemora@hotmail.com', 'CS_320', 'SP_2019', 84.0, 74.0, 76.0, 76.0, 78.0, 80.0, 77.0, 79.0, 78.0, None, 77.0, 74.0, 78.58, 96.38, 3.62, 0.0, 100.0, 4.52, 5.16, 2.0)\n",
      "('791-11-2444', 'Jennifer', 'Johnson', 'F', 'Asian', '1999-10-06', '2226 Emily Meadows Apt. 562\\nLake Melissaland, NY 34006', 'hprice@gmail.com', 'CS_320', 'SP_2019', 88.0, 91.0, 95.0, 96.0, 99.0, 89.0, 95.0, 96.0, 96.0, None, 93.0, 97.0, 94.77, 100.0, 0.0, 0.0, 100.0, 6.05, 5.94, 5.0)\n",
      "('555-73-0271', 'Scott', 'Brown', 'M', 'White', '2000-06-25', '656 Carr Coves Suite 811\\nWest Michelletown, ID 82695', 'edwin32@yahoo.com', 'CS_320', 'SP_2019', 84.0, 76.0, 72.0, 77.0, 79.0, 79.0, 75.0, 77.0, 76.0, None, 75.0, 81.0, 78.44, 95.98, 4.02, 0.0, 90.75, 6.27, 5.72, 3.0)\n",
      "('367-05-0766', 'Jaime', 'Duran', 'M', 'White', '1997-02-26', '201 Hart Shores Suite 856\\nTanyafort, VT 77551', 'tanner49@yahoo.com', 'CS_320', 'SP_2019', 86.0, 83.0, 82.0, 79.0, 77.0, 84.0, 83.0, 80.0, 76.0, None, 81.0, 76.0, 81.31, 98.86, 1.14, 0.0, 99.35, 5.81, 4.25, 3.0)\n",
      "('841-09-3931', 'Kendra', 'Graham', 'F', 'Black', '2000-06-02', '177 Kline Extension Suite 042\\nPort Stacy, RI 30522', 'newtonkarina@yahoo.com', 'CS_320', 'SP_2019', 85.0, 86.0, 84.0, 88.0, 100.0, 84.0, 89.0, 88.0, 91.0, None, 85.0, 100.0, 90.79, 100.0, 0.0, 0.0, 100.0, 7.82, 4.4, 4.0)\n",
      "('180-04-8672', 'Wendy', 'Mcintosh', 'F', 'White', '1996-03-10', '131 Brown Loaf\\nNew Edward, IN 15637', 'melissa87@hotmail.com', 'CS_320', 'SP_2019', 87.0, 89.0, 90.0, 91.0, 92.0, 89.0, 90.0, 92.0, 91.0, None, 88.0, 92.0, 90.79, 73.41, 26.59, 0.0, 100.0, 6.97, 6.41, 3.0)\n",
      "('559-93-9771', 'William', 'King', 'M', 'White', '1996-08-06', '55450 Perez Underpass Apt. 389\\nMartinezstad, CA 27775', 'haroldbarron@yahoo.com', 'CS_320', 'SP_2019', 87.0, 91.0, 93.0, 91.0, 91.0, 88.0, 93.0, 91.0, 89.0, None, 90.0, 90.0, 90.92, 74.46, 25.54, 0.0, 100.0, 7.05, 4.87, 2.0)\n",
      "('154-35-4346', 'Aaron', 'Bird', 'M', 'White', '1997-11-17', '28594 Parks Lake\\nMelissaside, DE 13236', 'angelica39@yahoo.com', 'CS_320', 'SP_2019', 87.0, 88.0, 90.0, 93.0, 95.0, 87.0, 93.0, 92.0, 91.0, None, 85.0, 90.0, 90.06, 81.72, 18.28, 0.0, 100.0, 5.86, 6.57, 1.0)\n",
      "('847-93-5053', 'Carla', 'Stafford', 'F', 'White', '1997-03-20', '5065 Denise Ramp Apt. 086\\nDanamouth, WV 00740', 'banksnathaniel@yahoo.com', 'CS_320', 'SP_2019', 85.0, 91.0, 92.0, 86.0, 82.0, 87.0, 94.0, 92.0, 80.0, None, 90.0, 84.0, 88.31, 97.19, 2.81, 0.0, 100.0, 3.94, 6.97, 2.0)\n",
      "('026-68-1356', 'Claire', 'Russell', 'F', 'Black', '2000-02-03', 'PSC 8900, Box 1046\\nAPO AA 77327', 'fergusonleslie@yahoo.com', 'CS_320', 'SP_2019', 84.0, 88.0, 87.0, 86.0, 93.0, 84.0, 86.0, 84.0, 90.0, None, 86.0, 89.0, 87.98, 100.0, 0.0, 0.0, 100.0, 5.33, 7.07, 1.0)\n",
      "('296-27-3889', 'Makayla', 'Marshall', 'F', 'White', '1999-05-15', '806 George Mountain\\nPort Matthewchester, MN 99018', 'reesenatasha@hotmail.com', 'CS_320', 'SP_2019', 86.0, 88.0, 91.0, 93.0, 93.0, 86.0, 92.0, 95.0, 92.0, None, 90.0, 94.0, 91.9, 89.65, 10.35, 0.0, 100.0, 6.39, 7.26, 2.0)\n",
      "('100-48-8599', 'David', 'Garcia', 'M', 'White', '1996-03-24', '39800 Jensen Summit Suite 526\\nMoorefort, MA 26875', 'knightjoseph@hotmail.com', 'CS_320', 'SP_2019', 85.0, 85.0, 86.0, 87.0, 86.0, 85.0, 87.0, 86.0, 84.0, None, 83.0, 85.0, 85.07, 85.56, 14.44, 0.0, 86.81, 7.38, 3.44, 2.0)\n",
      "('885-38-8642', 'Mary', 'Burke', 'F', 'White', '1996-08-11', '308 April Union\\nHillberg, WA 51519', 'george09@yahoo.com', 'CS_320', 'SP_2019', 83.0, 91.0, 91.0, 91.0, 100.0, 84.0, 90.0, 90.0, 93.0, None, 90.0, 98.0, 92.39, 100.0, 0.0, 0.0, 100.0, 5.41, 7.65, 3.0)\n",
      "('031-17-9448', 'Anthony', 'Hayes', 'M', 'White', '1999-10-30', 'USCGC Fields\\nFPO AA 90687', 'loretta24@hotmail.com', 'CS_320', 'SP_2019', 86.0, 81.0, 80.0, 83.0, 85.0, 82.0, 80.0, 80.0, 83.0, None, 80.0, 85.0, 82.94, 94.32, 5.68, 0.0, 92.01, 6.62, 5.67, 5.0)\n",
      "('305-14-3541', 'Isabella', 'Davis', 'F', 'White', '1997-12-16', '830 Harris Ford\\nMichaelmouth, ND 93599', 'leah61@hotmail.com', 'CS_320', 'SP_2019', 81.0, 93.0, 100.0, 100.0, 100.0, 86.0, 100.0, 99.0, 99.0, None, 96.0, 100.0, 96.7, 95.55, 4.45, 0.0, 98.87, 6.86, 4.29, 14.0)\n",
      "('864-91-2929', 'Jasmine', 'Watkins', 'F', 'Mixed', '1998-09-23', '2561 Janet Branch\\nCynthiaview, NJ 35634', 'loganweaver@yahoo.com', 'CS_320', 'SP_2019', 91.0, 88.0, 89.0, 90.0, 91.0, 88.0, 89.0, 89.0, 91.0, None, 88.0, 88.0, 89.64, 86.61, 13.39, 0.0, 100.0, 6.66, 5.83, 2.0)\n",
      "('878-27-7705', 'Jennifer', 'Scott', 'F', 'White', '1996-01-01', '6947 Payne Spur\\nLake Michaelville, KS 49940', 'gibsonmatthew@hotmail.com', 'CS_320', 'SP_2019', 79.0, 74.0, 73.0, 78.0, 75.0, 77.0, 77.0, 77.0, 76.0, None, 72.0, 75.0, 75.47, 98.59, 1.41, 0.0, 80.43, 4.31, 5.35, 0.0)\n",
      "('362-06-1684', 'Aimee', 'Becker', 'F', 'White', '1996-03-26', '866 Brittany Cape Apt. 782\\nMirandahaven, LA 66604', 'kathydavila@hotmail.com', 'CS_320', 'SP_2019', 87.0, 86.0, 88.0, 87.0, 94.0, 88.0, 88.0, 88.0, 89.0, None, 85.0, 90.0, 87.8, 83.49, 16.51, 0.0, 85.61, 5.91, 5.84, 2.0)\n",
      "('033-21-4237', 'Adam', 'Scott', 'M', 'White', '1997-11-03', '8844 Trevor Springs Apt. 789\\nNorth Elizabethberg, NE 76550', 'alawrence@yahoo.com', 'CS_320', 'SP_2019', 87.0, 80.0, 78.0, 73.0, 75.0, 82.0, 78.0, 74.0, 74.0, None, 80.0, 71.0, 78.41, 92.19, 7.81, 0.0, 100.0, 4.26, 4.37, 1.0)\n",
      "('241-70-4075', 'Kristen', 'Smith', 'F', 'White', '1997-12-10', '059 Grant Fork\\nFrankhaven, WI 60463', 'juan50@hotmail.com', 'CS_320', 'SP_2019', 81.0, 82.0, 90.0, 94.0, 91.0, 80.0, 95.0, 97.0, 92.0, None, 84.0, 92.0, 88.17, 100.0, 0.0, 0.0, 79.92, 7.25, 6.58, 14.0)\n",
      "('817-96-7837', 'Andrew', 'Alvarez', 'M', 'White', '2000-05-22', '9978 Erica Trafficway Suite 554\\nLake Theresa, KY 49472', 'zrogers@hotmail.com', 'CS_320', 'SP_2019', 83.0, 89.0, 89.0, 94.0, 92.0, 85.0, 92.0, 93.0, 93.0, None, 90.0, 89.0, 90.33, 97.34, 2.66, 0.0, 96.67, 7.12, 5.65, 3.0)\n",
      "('399-33-6730', 'Justin', 'Howe', 'M', 'Black', '1996-11-29', '29964 David Hill\\nNorth Justin, UT 45627', 'douglaslove@gmail.com', 'CS_320', 'SP_2019', 84.0, 78.0, 80.0, 81.0, 85.0, 81.0, 79.0, 80.0, 83.0, None, 76.0, 84.0, 81.45, 100.0, 0.0, 0.0, 91.93, 5.35, 5.82, 5.0)\n"
     ]
    }
   ],
   "source": [
    "read_course(conn,'CS_320','SP_2019')"
   ]
  },
  {
   "cell_type": "code",
   "execution_count": 25,
   "metadata": {},
   "outputs": [
    {
     "name": "stdout",
     "output_type": "stream",
     "text": [
      "('404-09-1322', 'Michael', 'Morris', 'M', 'White', '2000-06-15', '3041 Julie Cove\\nNorth Noahside, WV 97709', 'qdickson@yahoo.com', 'CS_320', 'SP_2020', 94.0, 96.0, 96.0, None, None, 95.0, 98.0, None, None, None, 95.0, None, None, 100.0, 0.0, 0.0, 100.0, 7.22, 4.59, 11.0)\n",
      "('603-67-5741', 'Olivia', 'Perez', 'F', 'White', '1997-03-17', '81139 Linda Hills\\nSouth Michelle, GA 18798', 'zwilliamson@yahoo.com', 'CS_320', 'SP_2020', 88.0, 80.0, 78.0, None, None, 82.0, 75.0, None, None, None, 76.0, None, None, 95.85, 4.15, 0.0, 99.37, 4.78, 5.51, 0.0)\n",
      "('073-03-8878', 'Lisa', 'Stewart', 'F', 'White', '2001-09-10', '07010 Burton Squares\\nWest Nicoleport, FL 94986', 'whitneywatkins@hotmail.com', 'CS_320', 'SP_2020', 87.0, 87.0, 82.0, None, None, 86.0, 83.0, None, None, None, 86.0, None, None, 100.0, 0.0, 0.0, 100.0, 6.26, 6.37, 4.0)\n",
      "('281-10-5474', 'Charles', 'Marsh', 'M', 'White', '1997-04-01', '605 White Junctions\\nLake Joshua, MN 44980', 'uowens@hotmail.com', 'CS_320', 'SP_2020', 80.0, 77.0, 75.0, None, None, 79.0, 72.0, None, None, None, 76.0, None, None, 100.0, 0.0, 0.0, 90.97, 3.85, 5.34, 0.0)\n",
      "('855-33-8743', 'Anita', 'Ball', 'F', 'White', '2000-12-26', '91625 Dunlap Alley\\nJoycefort, VA 71420', 'hboyle@gmail.com', 'CS_320', 'SP_2020', 83.0, 88.0, 88.0, None, None, 85.0, 89.0, None, None, None, 87.0, None, None, 88.46, 11.54, 0.0, 95.73, 6.66, 4.64, 3.0)\n",
      "('810-86-7381', 'Tina', 'Williams', 'F', 'White', '1997-08-29', '1464 Taylor Drive Apt. 880\\nWest Dianaport, AZ 56926', 'jimenezlaura@hotmail.com', 'CS_320', 'SP_2020', 86.0, 85.0, 81.0, None, None, 85.0, 85.0, None, None, None, 81.0, None, None, 90.36, 9.64, 0.0, 100.0, 5.88, 6.99, 2.0)\n",
      "('869-32-7293', 'Sarah', 'Cook', 'F', 'White', '1999-07-28', '3274 Ray Loaf Suite 280\\nEast Trevorfurt, KY 07976', 'nathaniel55@gmail.com', 'CS_320', 'SP_2020', 83.0, 88.0, 88.0, None, None, 85.0, 89.0, None, None, None, 88.0, None, None, 100.0, 0.0, 0.0, 95.92, 6.64, 7.28, 5.0)\n",
      "('445-94-1731', 'Samantha', 'Haynes', 'F', 'Black', '2001-11-10', '32896 Brandon Pines Apt. 715\\nKennethport, RI 01001', 'franciscowatson@gmail.com', 'CS_320', 'SP_2020', 84.0, 80.0, 82.0, None, None, 83.0, 82.0, None, None, None, 79.0, None, None, 99.18, 0.82, 0.0, 98.97, 5.84, 5.48, 2.0)\n",
      "('311-32-9891', 'Rhonda', 'Miller', 'F', 'White', '1998-12-10', '13881 Solomon Pines Apt. 458\\nPricestad, LA 60215', 'briannagordon@hotmail.com', 'CS_320', 'SP_2020', 80.0, 73.0, 72.0, None, None, 79.0, 69.0, None, None, None, 72.0, None, None, 91.39, 8.61, 0.0, 99.53, 5.33, 5.15, 1.0)\n",
      "('030-93-8987', 'Andrew', 'Hinton', 'M', 'White', '2001-11-28', '923 Isaac Freeway\\nLake Deborahshire, MT 73207', 'lisa43@yahoo.com', 'CS_320', 'SP_2020', 84.0, 78.0, 76.0, None, None, 80.0, 79.0, None, None, None, 75.0, None, None, 89.31, 10.69, 0.0, 97.57, 5.84, 4.49, 2.0)\n",
      "('071-15-8311', 'Jeffrey', 'Chase', 'M', 'White', '1997-12-08', '988 Jeffrey Ports Suite 355\\nNorth Christopherbury, NJ 63738', 'teresavincent@gmail.com', 'CS_320', 'SP_2020', 81.0, 82.0, 86.0, None, None, 81.0, 90.0, None, None, None, 80.0, None, None, 93.4, 6.6, 0.0, 100.0, 5.51, 5.37, 1.0)\n",
      "('281-38-0253', 'Scott', 'Jenkins', 'M', 'White', '1998-11-11', '994 Roberts Harbor Apt. 173\\nLake Kelly, GA 27095', 'zspence@gmail.com', 'CS_320', 'SP_2020', 82.0, 82.0, 86.0, None, None, 81.0, 88.0, None, None, None, 82.0, None, None, 97.41, 2.59, 0.0, 100.0, 6.69, 2.44, 1.0)\n",
      "('282-84-6281', 'Zachary', 'Jackson', 'M', 'Mixed', '1999-09-15', '45204 Lane Loaf\\nNew Jennifer, CT 80336', 'gary33@hotmail.com', 'CS_320', 'SP_2020', 81.0, 77.0, 75.0, None, None, 79.0, 74.0, None, None, None, 74.0, None, None, 87.52, 12.48, 0.0, 96.91, 4.42, 4.77, 1.0)\n",
      "('897-21-9898', 'Lori', 'Miller', 'F', 'White', '1999-11-07', '18092 Murphy Cape Suite 841\\nSouth Cynthia, SD 34454', 'susanwerner@hotmail.com', 'CS_320', 'SP_2020', 80.0, 74.0, 70.0, None, None, 74.0, 73.0, None, None, None, 70.0, None, None, 99.02, 0.98, 0.0, 78.64, 3.98, 4.62, 3.0)\n",
      "('481-55-1684', 'Scott', 'Martin', 'M', 'White', '1999-04-01', '2326 Jeremy Burgs Apt. 990\\nWest Angelica, VT 54876', 'vaughandiane@hotmail.com', 'CS_320', 'SP_2020', 90.0, 92.0, 93.0, None, None, 90.0, 97.0, None, None, None, 93.0, None, None, 88.07, 11.93, 0.0, 100.0, 7.43, 7.85, 6.0)\n",
      "('693-45-0811', 'Phyllis', 'Ramos', 'F', 'Black', '1998-03-24', '50349 Davis Prairie Apt. 653\\nCristianmouth, LA 55255', 'ppierce@yahoo.com', 'CS_320', 'SP_2020', 87.0, 84.0, 82.0, None, None, 85.0, 81.0, None, None, None, 82.0, None, None, 97.73, 2.27, 0.0, 83.95, 4.89, 4.98, 0.0)\n",
      "('578-54-6994', 'Christopher', 'Rangel', 'M', 'White', '1998-06-09', '8957 Kidd Radial Apt. 973\\nRamirezfort, WI 88153', 'brandywatson@hotmail.com', 'CS_320', 'SP_2020', 89.0, 87.0, 82.0, None, None, 87.0, 81.0, None, None, None, 83.0, None, None, 100.0, 0.0, 0.0, 100.0, 6.12, 5.12, 1.0)\n",
      "('352-75-2140', 'Stacey', 'Morris', 'F', 'White', '2000-06-10', '35788 Brandy Pike\\nAudreyshire, OK 57881', 'ofitzgerald@gmail.com', 'CS_320', 'SP_2020', 82.0, 76.0, 75.0, None, None, 80.0, 75.0, None, None, None, 74.0, None, None, 80.27, 19.73, 0.0, 99.63, 4.47, 5.08, 1.0)\n",
      "('202-70-4847', 'Brian', 'Knight', 'M', 'White', '1998-01-11', '2521 Heath Mews\\nBrianfurt, DC 46753', 'daniellecurry@yahoo.com', 'CS_320', 'SP_2020', 88.0, 91.0, 90.0, None, None, 89.0, 89.0, None, None, None, 87.0, None, None, 97.9, 2.1, 0.0, 100.0, 6.17, 3.48, 1.0)\n",
      "('400-19-6092', 'Maria', 'Wilson', 'F', 'White', '2000-02-08', '886 Yates Garden\\nWattsborough, RI 55927', 'angela43@gmail.com', 'CS_320', 'SP_2020', 95.0, 96.0, 100.0, None, None, 94.0, 100.0, None, None, None, 99.0, None, None, 100.0, 0.0, 0.0, 100.0, 6.39, 9.6, 8.0)\n",
      "('752-28-6443', 'Chad', 'Johnson', 'M', 'White', '1999-03-15', '03172 Jasmine Mews\\nMorgantown, TX 15048', 'mkoch@yahoo.com', 'CS_320', 'SP_2020', 89.0, 87.0, 84.0, None, None, 88.0, 84.0, None, None, None, 84.0, None, None, 83.96, 16.04, 0.0, 79.95, 4.71, 5.5, 2.0)\n",
      "('133-13-4536', 'Sarah', 'Phelps', 'F', 'White', '2001-12-16', '3314 Bond Isle\\nLake Coleland, VT 23916', 'antonio28@hotmail.com', 'CS_320', 'SP_2020', 83.0, 88.0, 92.0, None, None, 84.0, 94.0, None, None, None, 89.0, None, None, 78.38, 21.62, 0.0, 87.33, 5.22, 8.34, 7.0)\n",
      "('501-81-6382', 'Thomas', 'Clark', 'M', 'White', '1999-01-08', '42197 Scott Mountain Apt. 580\\nBrianmouth, RI 95020', 'tasha80@gmail.com', 'CS_320', 'SP_2020', 84.0, 82.0, 79.0, None, None, 81.0, 81.0, None, None, None, 77.0, None, None, 85.97, 14.03, 0.0, 88.74, 6.93, 5.62, 7.0)\n",
      "('003-76-7792', 'Kayla', 'Wilson', 'F', 'White', '1998-01-29', 'PSC 0838, Box 3580\\nAPO AE 98679', 'patrickgallegos@yahoo.com', 'CS_320', 'SP_2020', 93.0, 94.0, 98.0, None, None, 94.0, 100.0, None, None, None, 93.0, None, None, 100.0, 0.0, 0.0, 100.0, 6.94, 4.9, 2.0)\n",
      "('868-39-5097', 'Lisa', 'Woods', 'F', 'White', '1999-04-05', '90468 Robert Village\\nLake Nathan, VA 45751', 'brandi36@yahoo.com', 'CS_320', 'SP_2020', 87.0, 93.0, 99.0, None, None, 89.0, 98.0, None, None, None, 97.0, None, None, 100.0, 0.0, 0.0, 100.0, 6.11, 7.92, 7.0)\n",
      "('378-38-6343', 'Joshua', 'Cherry', 'M', 'White', '1998-11-20', '4713 Jessica Grove Suite 773\\nSouth Lisa, AZ 70626', 'williamsdaniel@hotmail.com', 'CS_320', 'SP_2020', 85.0, 82.0, 80.0, None, None, 83.0, 79.0, None, None, None, 80.0, None, None, 100.0, 0.0, 0.0, 100.0, 4.97, 4.45, 2.0)\n",
      "('059-51-1614', 'Brenda', 'Suarez', 'F', 'White', '2001-11-05', '8347 Elizabeth Groves\\nEast Deannahaven, WV 10061', 'nicholasmunoz@hotmail.com', 'CS_320', 'SP_2020', 85.0, 85.0, 85.0, None, None, 84.0, 85.0, None, None, None, 83.0, None, None, 90.42, 9.58, 0.0, 93.97, 5.42, 5.86, 1.0)\n",
      "('816-54-6413', 'Donna', 'Bates', 'F', 'Black', '1999-01-26', '769 Luis Fort Suite 245\\nJeffreyville, OR 05507', 'hensleyhenry@yahoo.com', 'CS_320', 'SP_2020', 74.0, 73.0, 73.0, None, None, 73.0, 73.0, None, None, None, 71.0, None, None, 91.83, 8.17, 0.0, 95.5, 4.06, 4.79, 1.0)\n",
      "('604-63-8883', 'Erica', 'Powers', 'F', 'White', '1997-05-23', '0482 Bobby Lights\\nKington, GA 24209', 'greenalexis@gmail.com', 'CS_320', 'SP_2020', 84.0, 85.0, 85.0, None, None, 84.0, 85.0, None, None, None, 85.0, None, None, 100.0, 0.0, 0.0, 89.01, 5.66, 5.99, 4.0)\n",
      "('245-49-5609', 'Louis', 'Mcdonald', 'M', 'White', '2001-10-14', '77243 Lisa Port Suite 354\\nWest Charlottemouth, MS 42492', 'david72@gmail.com', 'CS_320', 'SP_2020', 86.0, 88.0, 76.0, None, None, 87.0, 72.0, None, None, None, 81.0, None, None, 91.59, 8.41, 0.0, 100.0, 5.38, 4.71, 0.0)\n"
     ]
    }
   ],
   "source": [
    "read_course(conn,'CS_320','SP_2020')"
   ]
  },
  {
   "cell_type": "code",
   "execution_count": null,
   "metadata": {},
   "outputs": [],
   "source": []
  },
  {
   "cell_type": "code",
   "execution_count": null,
   "metadata": {},
   "outputs": [],
   "source": []
  },
  {
   "cell_type": "code",
   "execution_count": null,
   "metadata": {},
   "outputs": [],
   "source": []
  }
 ],
 "metadata": {
  "kernelspec": {
   "display_name": "Python 3",
   "language": "python",
   "name": "python3"
  },
  "language_info": {
   "codemirror_mode": {
    "name": "ipython",
    "version": 3
   },
   "file_extension": ".py",
   "mimetype": "text/x-python",
   "name": "python",
   "nbconvert_exporter": "python",
   "pygments_lexer": "ipython3",
   "version": "3.7.3"
  }
 },
 "nbformat": 4,
 "nbformat_minor": 4
}
