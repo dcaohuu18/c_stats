{
 "cells": [
  {
   "cell_type": "code",
   "execution_count": 89,
   "metadata": {},
   "outputs": [],
   "source": [
    "import sqlite3\n",
    "conn = sqlite3.connect('Student_Data.db')\n",
    "c = conn.cursor()"
   ]
  },
  {
   "cell_type": "code",
   "execution_count": 90,
   "metadata": {},
   "outputs": [],
   "source": [
    "def create_connection(db):\n",
    "    conn = None\n",
    "    try:\n",
    "        conn = sqlite3.connect(db)\n",
    "    except Error as e:\n",
    "        print(e)\n",
    "\n",
    "    return conn"
   ]
  },
  {
   "cell_type": "code",
   "execution_count": 128,
   "metadata": {},
   "outputs": [],
   "source": [
    "def read_course(conn,course_code,term_code):\n",
    "    cur = conn.cursor()\n",
    "    cur.execute(\"\"\"SELECT *\n",
    "                   FROM Student_info\n",
    "                   LEFT OUTER JOIN  StudentProfile p using (id)\n",
    "                   LEFT OUTER JOIN  Assignment a using (id, course_code)\n",
    "                   LEFT OUTER JOIN  Assessment q using (id, course_code)\n",
    "                   LEFT OUTER JOIN  Student_track t using (id, course_code)\n",
    "                   WHERE p.course_code = '\"\"\"+course_code+\"\"\"' and p.term_code = '\"\"\"+term_code+\"\"\"';\"\"\")\n",
    "\n",
    "    rows = cur.fetchmany(5)\n",
    "\n",
    "    for row in rows:\n",
    "        print(row)"
   ]
  },
  {
   "cell_type": "code",
   "execution_count": 129,
   "metadata": {},
   "outputs": [
    {
     "name": "stdout",
     "output_type": "stream",
     "text": [
      "('297-51-1587', 'Lori', 'Johnson', 'F', 'Asian', '1998-12-24', 'PSC 6916, Box 3906\\nAPO AE 81631', 'dawn66@hotmail.com', 'CS_320', 'SP_2019', 82.0, 87.0, 88.0, 88.0, 87.0, 85.0, 88.0, 87.0, 87.0, 85.0, 89.0, 82.0, 87.25, 100.0, 0.0, 0.0, 98.49, 6.12, 7.35, 17.0)\n",
      "('472-14-3635', 'Kevin', 'Ward', 'M', 'Black', '2000-06-22', '718 Kevin Tunnel\\nNorth Latoyaburgh, AR 64707', 'perryanthony@yahoo.com', 'CS_320', 'SP_2019', 84.0, 82.0, 84.0, 88.0, 92.0, 83.0, 82.0, 86.0, 88.0, 90.0, 81.0, 94.0, 87.49, 97.7, 2.3, 0.0, 95.53, 6.35, 4.05, 11.0)\n",
      "('333-85-1583', 'Anthony', 'Davidson', 'M', 'White', '1996-06-11', '36040 Teresa Mission Apt. 707\\nNorth Amandaside, MS 48004', 'greenmary@gmail.com', 'CS_320', 'SP_2019', 88.0, 85.0, 82.0, 85.0, 91.0, 84.0, 80.0, 81.0, 82.0, 87.0, 83.0, 86.0, 85.23, 78.2, 21.8, 0.0, 93.47, 6.99, 6.48, 2.0)\n",
      "('467-98-8399', 'Christopher', 'Ford', 'M', 'Black', '1996-07-04', '2749 Taylor Loaf Suite 470\\nHoffmanburgh, CO 86375', 'shannonrodgers@gmail.com', 'CS_320', 'SP_2019', 83.0, 73.0, 63.0, 57.0, 51.0, 78.0, 63.0, 63.0, 59.0, 53.0, 68.0, 52.0, 62.43, 80.73, 19.27, 0.0, 63.91, 3.61, 2.85, 0.0)\n",
      "('892-22-4747', 'Alejandra', 'Strickland', 'F', 'White', '1996-07-29', '262 Laurie Wells Apt. 925\\nWest Michael, NY 79271', 'lindsay64@gmail.com', 'CS_320', 'SP_2019', 87.0, 86.0, 89.0, 84.0, 85.0, 87.0, 83.0, 89.0, 85.0, 83.0, 84.0, 85.0, 85.74, 87.96, 12.04, 0.0, 90.78, 5.89, 5.11, 7.0)\n"
     ]
    }
   ],
   "source": [
    "###testing\n",
    "conn = create_connection('Student_Data.db')\n",
    "read_course(conn,'CS_320','SP_2019')"
   ]
  },
  {
   "cell_type": "code",
   "execution_count": null,
   "metadata": {},
   "outputs": [],
   "source": []
  }
 ],
 "metadata": {
  "kernelspec": {
   "display_name": "Python 3",
   "language": "python",
   "name": "python3"
  },
  "language_info": {
   "codemirror_mode": {
    "name": "ipython",
    "version": 3
   },
   "file_extension": ".py",
   "mimetype": "text/x-python",
   "name": "python",
   "nbconvert_exporter": "python",
   "pygments_lexer": "ipython3",
   "version": "3.7.3"
  }
 },
 "nbformat": 4,
 "nbformat_minor": 4
}
