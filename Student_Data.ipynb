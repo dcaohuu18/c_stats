{
 "cells": [
  {
   "cell_type": "code",
   "execution_count": 25,
   "metadata": {},
   "outputs": [
    {
     "name": "stdout",
     "output_type": "stream",
     "text": [
      "created csv file time: 0.6206820011138916\n"
     ]
    }
   ],
   "source": [
    "import csv\n",
    "import random\n",
    "from time import time\n",
    "from decimal import Decimal\n",
    "from faker import Faker\n",
    "\n",
    "RECORD_COUNT = 1000\n",
    "fake = Faker()\n",
    "\n",
    "\n",
    "def create_csv_file():\n",
    "    with open('./students.csv', 'w', newline='') as csvfile:\n",
    "        fieldnames = ['Student_Id','Student_name', 'Class_Level','Email','Science','Mathematics', 'English', 'Social_Sciences', 'Project_work','Hours_of_Engagement']\n",
    "        writer = csv.DictWriter(csvfile, fieldnames=fieldnames)\n",
    "\n",
    "        writer.writeheader()\n",
    "        for i in range(RECORD_COUNT):\n",
    "            writer.writerow(\n",
    "                {\n",
    "                    'Student_Id': fake.random_int(min=0, max=1000),\n",
    "                    'Student_name': fake.name(),\n",
    "                    'Email': fake.email(),\n",
    "                    'Class_Level': fake.random.choice (['K', 'G1', 'G2', 'G3', 'G4', 'G5', 'G6', 'G7', 'G8', 'G9', 'G10', 'G11', 'G12']),\n",
    "                    'Science': fake.random.choice (['A+','A','A-','B+','B','B-', 'C+','C','C-', 'D', 'F']),\n",
    "                    'Mathematics': fake.random.choice (['A+','A','A-','B+','B','B-', 'C+','C','C-', 'D', 'F']),\n",
    "                    'English': fake.random.choice (['A+','A','A-','B+','B','B-', 'C+','C','C-', 'D', 'F']),\n",
    "                    'Social_Sciences': fake.random.choice (['A+','A','A-','B+','B','B-', 'C+','C','C-', 'D', 'F']),\n",
    "                    'Project_work': fake.random.choice (['A+','A','A-','B+','B','B-', 'C+','C','C-', 'D', 'F']),\n",
    "                    'Hours_of_Engagement': fake.random_int(min=0, max=10)\n",
    "                }\n",
    "            )\n",
    "\n",
    "\n",
    "\n",
    "if __name__ == '__main__':\n",
    "    start = time()\n",
    "    create_csv_file()\n",
    "    elapsed = time() - start\n",
    "    print('created csv file time: {}'.format(elapsed))\n"
   ]
  },
  {
   "cell_type": "code",
   "execution_count": null,
   "metadata": {},
   "outputs": [],
   "source": []
  },
  {
   "cell_type": "code",
   "execution_count": null,
   "metadata": {},
   "outputs": [],
   "source": []
  }
 ],
 "metadata": {
  "kernelspec": {
   "display_name": "Python 3",
   "language": "python",
   "name": "python3"
  },
  "language_info": {
   "codemirror_mode": {
    "name": "ipython",
    "version": 3
   },
   "file_extension": ".py",
   "mimetype": "text/x-python",
   "name": "python",
   "nbconvert_exporter": "python",
   "pygments_lexer": "ipython3",
   "version": "3.7.3"
  }
 },
 "nbformat": 4,
 "nbformat_minor": 4
}
